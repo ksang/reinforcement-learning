{
 "cells": [
  {
   "cell_type": "code",
   "execution_count": 39,
   "metadata": {},
   "outputs": [],
   "source": [
    "import numpy as np\n",
    "import sys\n",
    "if \"../\" not in sys.path:\n",
    "  sys.path.append(\"../\") \n",
    "from lib.envs.gridworld import GridworldEnv"
   ]
  },
  {
   "cell_type": "code",
   "execution_count": 40,
   "metadata": {},
   "outputs": [],
   "source": [
    "env = GridworldEnv()"
   ]
  },
  {
   "cell_type": "code",
   "execution_count": 41,
   "metadata": {},
   "outputs": [],
   "source": [
    "def policy_eval(policy, env, discount_factor=1.0, theta=0.00001):\n",
    "    \"\"\"\n",
    "    Evaluate a policy given an environment and a full description of the environment's dynamics.\n",
    "    \n",
    "    Args:\n",
    "        policy: [S, A] shaped matrix representing the policy.\n",
    "        env: OpenAI env. env.P represents the transition probabilities of the environment.\n",
    "            env.P[s][a] is a list of transition tuples (prob, next_state, reward, done).\n",
    "            env.nS is a number of states in the environment. \n",
    "            env.nA is a number of actions in the environment.\n",
    "        theta: We stop evaluation once our value function change is less than theta for all states.\n",
    "        discount_factor: Gamma discount factor.\n",
    "    \n",
    "    Returns:\n",
    "        Vector of length env.nS representing the value function.\n",
    "    \"\"\"\n",
    "    # Start with a random (all 0) value function\n",
    "    V = np.zeros(env.nS)\n",
    "    V_prev = np.zeros(env.nS)\n",
    "    i = 1\n",
    "    def printGrid(v):\n",
    "        for i, j in enumerate(v):\n",
    "            if i>0 and i % int(np.sqrt(env.nS)) == 0:\n",
    "                print \"\\n\\t%.1f\" % j,\n",
    "            else:\n",
    "                print \"\\t%.1f\" % j,\n",
    "        print\n",
    "                \n",
    "    while True:\n",
    "        delta = 0\n",
    "        # for all states\n",
    "        for s, vs in  enumerate(V):\n",
    "            # calc value based on current reward plus next step reward following policy\n",
    "            v_curr = v_next = 0.0\n",
    "            for a, p in enumerate(policy[s]):\n",
    "                for prob, next_state, reward, done in env.P[s][a]:\n",
    "                    v_curr += p * prob * reward\n",
    "                    v_next += p * prob * V_prev[next_state]\n",
    "            V[s] = v_curr + discount_factor * v_next\n",
    "            delta = max(delta, np.abs(V[s] - vs))\n",
    "        V_prev = np.copy(V)\n",
    "        if i < 6:\n",
    "            print \"Iteration #%d\" % i\n",
    "            printGrid(V)\n",
    "            i +=1\n",
    "        if delta < theta:\n",
    "            break\n",
    "    return np.array(V)\n"
   ]
  },
  {
   "cell_type": "code",
   "execution_count": 42,
   "metadata": {},
   "outputs": [
    {
     "name": "stdout",
     "output_type": "stream",
     "text": [
      "Iteration #0\n",
      "\t0.0 \t-1.0 \t-1.0 \t-1.0 \n",
      "\t-1.0 \t-1.0 \t-1.0 \t-1.0 \n",
      "\t-1.0 \t-1.0 \t-1.0 \t-1.0 \n",
      "\t-1.0 \t-1.0 \t-1.0 \t0.0\n",
      "Iteration #1\n",
      "\t0.0 \t-1.8 \t-2.0 \t-2.0 \n",
      "\t-1.8 \t-2.0 \t-2.0 \t-2.0 \n",
      "\t-2.0 \t-2.0 \t-2.0 \t-1.8 \n",
      "\t-2.0 \t-2.0 \t-1.8 \t0.0\n",
      "Iteration #2\n",
      "\t0.0 \t-2.4 \t-2.9 \t-3.0 \n",
      "\t-2.4 \t-2.9 \t-3.0 \t-2.9 \n",
      "\t-2.9 \t-3.0 \t-2.9 \t-2.4 \n",
      "\t-3.0 \t-2.9 \t-2.4 \t0.0\n",
      "Iteration #3\n",
      "\t0.0 \t-3.1 \t-3.8 \t-4.0 \n",
      "\t-3.1 \t-3.7 \t-3.9 \t-3.8 \n",
      "\t-3.8 \t-3.9 \t-3.7 \t-3.1 \n",
      "\t-4.0 \t-3.8 \t-3.1 \t0.0\n",
      "Iteration #4\n",
      "\t0.0 \t-3.7 \t-4.7 \t-4.9 \n",
      "\t-3.7 \t-4.5 \t-4.8 \t-4.7 \n",
      "\t-4.7 \t-4.8 \t-4.5 \t-3.7 \n",
      "\t-4.9 \t-4.7 \t-3.7 \t0.0\n"
     ]
    }
   ],
   "source": [
    "random_policy = np.ones([env.nS, env.nA]) / env.nA\n",
    "v = policy_eval(random_policy, env)"
   ]
  },
  {
   "cell_type": "code",
   "execution_count": 15,
   "metadata": {},
   "outputs": [],
   "source": [
    "# Test: Make sure the evaluated policy is what we expected\n",
    "expected_v = np.array([0, -14, -20, -22, -14, -18, -20, -20, -20, -20, -18, -14, -22, -20, -14, 0])\n",
    "np.testing.assert_array_almost_equal(v, expected_v, decimal=2)"
   ]
  },
  {
   "cell_type": "code",
   "execution_count": null,
   "metadata": {},
   "outputs": [],
   "source": []
  },
  {
   "cell_type": "code",
   "execution_count": null,
   "metadata": {},
   "outputs": [],
   "source": []
  },
  {
   "cell_type": "code",
   "execution_count": null,
   "metadata": {},
   "outputs": [],
   "source": []
  }
 ],
 "metadata": {
  "kernelspec": {
   "display_name": "Python 3",
   "language": "python",
   "name": "python3"
  },
  "language_info": {
   "codemirror_mode": {
    "name": "ipython",
    "version": 2
   },
   "file_extension": ".py",
   "mimetype": "text/x-python",
   "name": "python",
   "nbconvert_exporter": "python",
   "pygments_lexer": "ipython2",
   "version": "2.7.11"
  }
 },
 "nbformat": 4,
 "nbformat_minor": 1
}
